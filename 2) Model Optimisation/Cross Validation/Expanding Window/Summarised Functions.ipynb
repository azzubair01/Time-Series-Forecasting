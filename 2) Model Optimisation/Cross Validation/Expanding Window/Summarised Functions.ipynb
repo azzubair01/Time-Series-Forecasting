{
 "cells": [
  {
   "cell_type": "code",
   "execution_count": 157,
   "metadata": {},
   "outputs": [],
   "source": [
    "import pandas as pd\n",
    "import numpy as np\n",
    "from tqdm import tqdm\n",
    "import datetime as dt\n",
    "import matplotlib.pyplot as plt\n",
    "from sklearn.model_selection import TimeSeriesSplit\n",
    "import warnings\n",
    "warnings.filterwarnings(\"ignore\")"
   ]
  },
  {
   "cell_type": "code",
   "execution_count": 158,
   "metadata": {},
   "outputs": [],
   "source": [
    "def feature_selection(data, label, top_attribute):\n",
    "    data = data.dropna()\n",
    "    predictors = data.loc[:, data.columns != label]\n",
    "    class_label = data.loc[:, data.columns == label]\n",
    "    \n",
    "    # apply SelectKBest class to extract top 10 best features\n",
    "    from sklearn.feature_selection import SelectKBest\n",
    "    from sklearn.feature_selection import f_regression\n",
    "    bestfeatures = SelectKBest(score_func=f_regression, k=5)\n",
    "    fit = bestfeatures.fit(predictors, class_label)\n",
    "    dfscores = pd.DataFrame(fit.scores_)\n",
    "    dfcolumns = pd.DataFrame(predictors.columns)\n",
    "    \n",
    "    # concat two dataframes for better visualization \n",
    "    featureScores = pd.concat([dfcolumns,dfscores],axis=1)\n",
    "    \n",
    "    # naming the dataframe columns\n",
    "    featureScores.columns = ['Predictors','Score']  \n",
    "    \n",
    "    # print 10 best features\n",
    "    ranked_features = featureScores.sort_values(by='Score',ascending=False)\n",
    "    ranked_features = ranked_features.reset_index()\n",
    "    ranked_features = ranked_features.drop(['index'], axis = 1)\n",
    "    \n",
    "    # creating columns names for the selected features\n",
    "    data = data.reset_index()\n",
    "    top_attributes_list = ['Date']\n",
    "    top_attributes_list.extend(ranked_features['Predictors'].tolist()[:top_attribute])\n",
    "    top_attributes_list.extend([label])\n",
    "    \n",
    "    # create dataframe of the selected features\n",
    "    data = data[top_attributes_list]\n",
    "    data = data.set_index('Date')\n",
    "    return data"
   ]
  },
  {
   "cell_type": "code",
   "execution_count": 159,
   "metadata": {},
   "outputs": [],
   "source": [
    "def calculate_rmse(data, algorithm):\n",
    "    X = data.iloc[:,:-1].values\n",
    "    y = data.iloc[:,-1:].values\n",
    "    tscv = TimeSeriesSplit(n_splits=len(data)-1)\n",
    "    \n",
    "    rmses = []\n",
    "    for train_index, test_index in tscv.split(X):\n",
    "        #print(\"TRAIN:\", train_index, \"TEST:\", test_index)\n",
    "        X_train, X_test = X[train_index], X[test_index]\n",
    "        y_train, y_test = y[train_index], y[test_index]\n",
    "        \n",
    "        if algorithm == 'AdaBoost':\n",
    "            from sklearn.tree import DecisionTreeRegressor\n",
    "            from sklearn.ensemble import AdaBoostRegressor\n",
    "            regr = AdaBoostRegressor(random_state=0, n_estimators=100)\n",
    "            regr.fit(X_train, y_train)\n",
    "            predict = regr.predict(X_test)\n",
    "            \n",
    "        elif algorithm == 'Random Forest':\n",
    "            from sklearn.ensemble import RandomForestRegressor\n",
    "            regr = RandomForestRegressor(max_depth=2, random_state=0)\n",
    "            regr.fit(X_train, y_train)\n",
    "            predict = regr.predict(X_test)\n",
    "            \n",
    "        elif algorithm == 'XGBoost':\n",
    "            from xgboost import XGBRegressor\n",
    "            regr = XGBRegressor(objective='reg:squarederror')\n",
    "            regr.fit(X_train, y_train)\n",
    "            predict = regr.predict(X_test)\n",
    "            \n",
    "        elif algorithm == 'Bagging':\n",
    "            from sklearn.tree import DecisionTreeRegressor\n",
    "            from sklearn.ensemble import BaggingRegressor\n",
    "            regr = BaggingRegressor(base_estimator=DecisionTreeRegressor(), n_estimators=10, random_state=0)\n",
    "            regr.fit(X_train, y_train)\n",
    "            predict = regr.predict(X_test)\n",
    "    \n",
    "        from sklearn.metrics import mean_squared_error\n",
    "        try:\n",
    "            rmse = mean_squared_error(y_test, predict, squared=False)\n",
    "        except:\n",
    "            rmse = np.NaN\n",
    "        rmses.append(rmse)\n",
    "    \n",
    "    rmses = [rmse for rmse in rmses if str(rmse) != 'nan']\n",
    "    print('The', algorithm, 'RMSE for Expanding Windows is', sum(rmses)/len(rmses))"
   ]
  },
  {
   "cell_type": "code",
   "execution_count": 175,
   "metadata": {},
   "outputs": [],
   "source": [
    "def predict_using_expanding_window(data, algorithm):\n",
    "    X = data.iloc[:,:-1].values\n",
    "    y = data.iloc[:,-1:].values\n",
    "    tscv = TimeSeriesSplit(n_splits=len(data)-1)\n",
    "    \n",
    "    predictions = [np.NaN]\n",
    "    for train_index, test_index in tscv.split(X):\n",
    "        #print(\"TRAIN:\", train_index, \"TEST:\", test_index)\n",
    "        X_train, X_test = X[train_index], X[test_index]\n",
    "        y_train, y_test = y[train_index], y[test_index]\n",
    "        \n",
    "        if algorithm == 'AdaBoost':\n",
    "            from sklearn.tree import DecisionTreeRegressor\n",
    "            from sklearn.ensemble import AdaBoostRegressor\n",
    "            regr = AdaBoostRegressor(random_state=0, n_estimators=100)\n",
    "            regr.fit(X_train, y_train)\n",
    "            predict = regr.predict(X_test)\n",
    "            predictions.extend(predict)\n",
    "            \n",
    "        elif algorithm == 'Random Forest':\n",
    "            from sklearn.ensemble import RandomForestRegressor\n",
    "            regr = RandomForestRegressor(max_depth=2, random_state=0)\n",
    "            regr.fit(X_train, y_train)\n",
    "            predict = regr.predict(X_test)\n",
    "            predictions.extend(predict)\n",
    "            \n",
    "        elif algorithm == 'XGBoost':\n",
    "            from xgboost import XGBRegressor\n",
    "            regr = XGBRegressor(objective='reg:squarederror')\n",
    "            regr.fit(X_train, y_train)\n",
    "            predict = regr.predict(X_test)\n",
    "            predictions.extend(predict)\n",
    "            \n",
    "        elif algorithm == 'Bagging':\n",
    "            from sklearn.tree import DecisionTreeRegressor\n",
    "            from sklearn.ensemble import BaggingRegressor\n",
    "            regr = BaggingRegressor(base_estimator=DecisionTreeRegressor(), n_estimators=10, random_state=0)\n",
    "            regr.fit(X_train, y_train)\n",
    "            predict = regr.predict(X_test)\n",
    "            predictions.extend(predict)\n",
    "        \n",
    "    data['Predictions'] = pd.DataFrame(predictions, index=data.index)\n",
    "    return data.tail(5)"
   ]
  },
  {
   "cell_type": "code",
   "execution_count": 176,
   "metadata": {},
   "outputs": [],
   "source": [
    "def plot_time_series(data, title):\n",
    "    data = data.reset_index()\n",
    "    plt.plot_date(data['Date'], data['PCI'], color = 'black', marker = 'o', label = 'actual', linestyle = '-')\n",
    "    plt.plot_date(data['Date'], data['Predictions'], color = 'red', marker = 'o', label = 'predict', linestyle = '--')\n",
    "    plt.legend()\n",
    "    plt.grid()\n",
    "    plt.xlabel('\\nDate')\n",
    "    plt.ylabel('RM (millions)\\n')\n",
    "    plt.title('Prediction of Real Private Consumption using ' + str(title))"
   ]
  },
  {
   "cell_type": "code",
   "execution_count": 183,
   "metadata": {},
   "outputs": [],
   "source": [
    "adaboost_df      = pd.read_csv('AdaBoost Dataset.csv',parse_dates=[0])\n",
    "xgboost_df       = pd.read_csv('XGBoost Dataset.csv',parse_dates=[0])\n",
    "bagging_df       = pd.read_csv('Bagging Dataset.csv',parse_dates=[0])\n",
    "random_forest_df = pd.read_csv('Random Forest Dataset.csv',parse_dates=[0])\n",
    "\n",
    "adaboost_df      = adaboost_df.set_index('Date')\n",
    "xgboost_df       = xgboost_df.set_index('Date')\n",
    "bagging_df       = bagging_df.set_index('Date')\n",
    "random_forest_df = random_forest_df.set_index('Date')"
   ]
  },
  {
   "cell_type": "code",
   "execution_count": 186,
   "metadata": {},
   "outputs": [
    {
     "name": "stdout",
     "output_type": "stream",
     "text": [
      "---------------------------------------------------------------------\n",
      "Calculating RMSE\n",
      "---------------------------------------------------------------------\n",
      "The XGBoost RMSE for Expanding Windows is 6147.6078125\n",
      "---------------------------------------------------------------------\n",
      "Modelling and Predict Future Values\n",
      "---------------------------------------------------------------------\n"
     ]
    },
    {
     "data": {
      "image/png": "[encoded data removed]",
      "text/plain": [
       "<Figure size 432x288 with 1 Axes>"
      ]
     },
     "metadata": {
      "needs_background": "light"
     },
     "output_type": "display_data"
    }
   ],
   "source": [
    "dataset = xgboost_df\n",
    "title   = \"XGBoost\"\n",
    "print('---------------------------------------------------------------------')\n",
    "print('Calculating RMSE')\n",
    "print('---------------------------------------------------------------------')\n",
    "calculate_rmse(dataset, algorithm=title)\n",
    "print('---------------------------------------------------------------------')\n",
    "print('Modelling and Predict Future Values')\n",
    "predict_using_expanding_window(dataset, algorithm=title)\n",
    "print('---------------------------------------------------------------------')\n",
    "plot_time_series(dataset,title=title)"
   ]
  }
 ],
 "metadata": {
  "kernelspec": {
   "display_name": "Python 3",
   "language": "python",
   "name": "python3"
  },
  "language_info": {
   "codemirror_mode": {
    "name": "ipython",
    "version": 3
   },
   "file_extension": ".py",
   "mimetype": "text/x-python",
   "name": "python",
   "nbconvert_exporter": "python",
   "pygments_lexer": "ipython3",
   "version": "3.8.5"
  }
 },
 "nbformat": 4,
 "nbformat_minor": 4
}
