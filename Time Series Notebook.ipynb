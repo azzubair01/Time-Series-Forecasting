{
 "cells": [
  {
   "cell_type": "markdown",
   "id": "f8118937",
   "metadata": {},
   "source": [
    "## 0) Import Libraries"
   ]
  },
  {
   "cell_type": "code",
   "execution_count": 62,
   "id": "308e51f1",
   "metadata": {
    "extensions": {
     "jupyter_dashboards": {
      "activeView": "grid_default",
      "views": {
       "grid_default": {
        "col": null,
        "height": 2,
        "hidden": true,
        "row": null,
        "width": 2
       }
      }
     }
    }
   },
   "outputs": [],
   "source": [
    "import os\n",
    "import pandas as pd\n",
    "import seaborn as sns\n",
    "from ipywidgets import interact, DatePicker, IntSlider\n",
    "import matplotlib.pyplot as plt\n",
    "from scipy.stats import pearsonr\n",
    "from matplotlib.pyplot import figure\n",
    "from statsmodels.tsa.arima.model import ARIMA\n",
    "from statsmodels.tsa.ar_model import AutoReg\n",
    "from statsmodels.tsa.holtwinters import ExponentialSmoothing\n",
    "from statsmodels.tsa.forecasting.theta import ThetaModel\n",
    "import warnings\n",
    "import numpy as np\n",
    "warnings.filterwarnings(\"ignore\")"
   ]
  },
  {
   "cell_type": "markdown",
   "id": "9611cdbe",
   "metadata": {
    "extensions": {
     "jupyter_dashboards": {
      "activeView": "grid_default",
      "views": {
       "grid_default": {
        "col": null,
        "height": 2,
        "hidden": true,
        "row": null,
        "width": 2
       }
      }
     }
    }
   },
   "source": [
    "## 1) Import Dataset"
   ]
  },
  {
   "cell_type": "code",
   "execution_count": 49,
   "id": "313e8c2a",
   "metadata": {
    "extensions": {
     "jupyter_dashboards": {
      "activeView": "grid_default",
      "views": {
       "grid_default": {
        "col": null,
        "height": 2,
        "hidden": true,
        "row": null,
        "width": 2
       }
      }
     }
    }
   },
   "outputs": [],
   "source": [
    "df         = pd.read_csv('DailyDelhiClimateTrain.csv')\n",
    "df_test    = pd.read_csv('DailyDelhiClimateTest.csv')\n",
    "df['date'] = pd.to_datetime(df['date'])\n",
    "df_test['date'] = pd.to_datetime(df_test['date'])"
   ]
  },
  {
   "cell_type": "markdown",
   "id": "9ee53c67",
   "metadata": {
    "extensions": {
     "jupyter_dashboards": {
      "activeView": "grid_default",
      "views": {
       "grid_default": {
        "col": null,
        "height": 2,
        "hidden": true,
        "row": null,
        "width": 2
       }
      }
     }
    }
   },
   "source": [
    "## 2) Exploratory Data Analysis"
   ]
  },
  {
   "cell_type": "markdown",
   "id": "47bba77b",
   "metadata": {},
   "source": [
    "### 2.1) Visualise data trend"
   ]
  },
  {
   "cell_type": "code",
   "execution_count": 52,
   "id": "28854fea",
   "metadata": {
    "extensions": {
     "jupyter_dashboards": {
      "activeView": "grid_default",
      "views": {
       "grid_default": {
        "col": 1,
        "height": 17,
        "hidden": true,
        "row": 65,
        "width": 6
       }
      }
     }
    }
   },
   "outputs": [
    {
     "data": {
      "application/vnd.jupyter.widget-view+json": {
       "model_id": "c6fecad6249a4ea3bed27af5db50aed0",
       "version_major": 2,
       "version_minor": 0
      },
      "text/plain": [
       "interactive(children=(Dropdown(description='Dataset', options=('Train', 'Test'), value='Train'), Dropdown(desc…"
      ]
     },
     "metadata": {},
     "output_type": "display_data"
    }
   ],
   "source": [
    "@interact\n",
    "def show_time_series(Dataset = ['Train', 'Test'], Attribute=df.columns.tolist()[1:]):\n",
    "    if Dataset == 'Train':\n",
    "        from matplotlib.pyplot import figure\n",
    "        figure(figsize=(20, 5), dpi=80)\n",
    "        sns.lineplot('date',Attribute,data=df)\n",
    "        plt.xticks(rotation=0)\n",
    "        plt.xlabel('\\n\\nDate')\n",
    "        plt.ylabel(Attribute + '\\n')\n",
    "        plt.title(Attribute.upper() + '\\n')\n",
    "        \n",
    "    elif Dataset == 'Test':\n",
    "        from matplotlib.pyplot import figure\n",
    "        figure(figsize=(20, 5), dpi=80)\n",
    "        sns.lineplot('date',Attribute,data=df_test)\n",
    "        plt.xticks(rotation=0)\n",
    "        plt.xlabel('\\n\\nDate')\n",
    "        plt.ylabel(Attribute + '\\n')\n",
    "        plt.title(Attribute.upper() + '\\n')\n",
    "        \n",
    "    "
   ]
  },
  {
   "cell_type": "markdown",
   "id": "0b67ea97",
   "metadata": {},
   "source": [
    "### 2.2) Visualise data distributions"
   ]
  },
  {
   "cell_type": "code",
   "execution_count": 57,
   "id": "e7e7006e",
   "metadata": {},
   "outputs": [
    {
     "data": {
      "application/vnd.jupyter.widget-view+json": {
       "model_id": "1a584161d21d4df081aeea1c046ce9cf",
       "version_major": 2,
       "version_minor": 0
      },
      "text/plain": [
       "interactive(children=(Dropdown(description='Dataset', options=('Train', 'Test'), value='Train'), Output()), _d…"
      ]
     },
     "metadata": {},
     "output_type": "display_data"
    }
   ],
   "source": [
    "@interact\n",
    "def show_distribution(Dataset = ['Train', 'Test']):\n",
    "    if Dataset == 'Train':\n",
    "        figure(figsize=(20, 5), dpi=80)\n",
    "        sns.pairplot(df)\n",
    "        \n",
    "    if Dataset == 'Test':\n",
    "        figure(figsize=(20, 5), dpi=80)\n",
    "        sns.pairplot(df_test)"
   ]
  },
  {
   "cell_type": "markdown",
   "id": "8129c05f",
   "metadata": {
    "extensions": {
     "jupyter_dashboards": {
      "activeView": "grid_default",
      "views": {
       "grid_default": {
        "col": null,
        "height": 2,
        "hidden": true,
        "row": null,
        "width": 2
       }
      }
     }
    }
   },
   "source": [
    "## 3) Forecast Attributes using Statistical Methods"
   ]
  },
  {
   "cell_type": "code",
   "execution_count": 76,
   "id": "3dc4b31a",
   "metadata": {
    "extensions": {
     "jupyter_dashboards": {
      "activeView": "grid_default",
      "views": {
       "grid_default": {
        "col": null,
        "height": 2,
        "hidden": true,
        "row": null,
        "width": 2
       }
      }
     }
    }
   },
   "outputs": [
    {
     "data": {
      "application/vnd.jupyter.widget-view+json": {
       "model_id": "b9b029e64f5942798676467ef21b8306",
       "version_major": 2,
       "version_minor": 0
      },
      "text/plain": [
       "interactive(children=(DatePicker(value=Timestamp('2013-01-01 00:00:00'), description='Start Date'), IntSlider(…"
      ]
     },
     "metadata": {},
     "output_type": "display_data"
    }
   ],
   "source": [
    "@interact\n",
    "def forecast_AR(Date=DatePicker(value=pd.to_datetime('2013-01-01'), description='Start Date'),\n",
    "                fh = IntSlider(value=6,min=1,max=168, description='Forecast'),\n",
    "                Attribute=df.columns.tolist()[1:], \n",
    "                Algorithm=['AutoRegression', 'ARIMA', 'Exponential Smoothing', 'Theta']):\n",
    "    \n",
    "    def check_date(my_date):\n",
    "        if my_date is None:\n",
    "            return False\n",
    "        start_date = pd.to_datetime('2013-01-01')\n",
    "        end_date = pd.to_datetime(\"today\")\n",
    "        my_date = pd.to_datetime(my_date)\n",
    "        return ((my_date >= start_date) & (my_date <= end_date))\n",
    "    \n",
    "    if check_date(Date):\n",
    "        start_date = pd.to_datetime(Date)\n",
    "\n",
    "    df_filter1 = df.loc[(df['date'].dt.date >=  Date)]\n",
    "    df_filter1 = df_filter1[['date', Attribute]]\n",
    "    df_filter1 = df_filter1.set_index('date')\n",
    "    y1 = df_filter1.squeeze()\n",
    "    y1.index = pd.DatetimeIndex(y1.index, freq=\"D\")\n",
    "    \n",
    "    df_filter2 = df_test.loc[(df_test['date'].dt.date >=  Date)]\n",
    "    df_filter2 = df_filter2[['date', Attribute]]\n",
    "    df_filter2 = df_filter2.set_index('date')\n",
    "    y2 = df_filter2.squeeze()\n",
    "    y2.index = pd.DatetimeIndex(y2.index, freq=\"D\")\n",
    "    \n",
    "       \n",
    "    if Algorithm == 'AutoRegression':\n",
    "        model = AutoReg(y1, lags=1)\n",
    "   \n",
    "    elif Algorithm == 'ARIMA':\n",
    "        model = ARIMA(y1, order=(1, 0, 1), seasonal_order=(1,0,1,7))\n",
    "        \n",
    "    elif Algorithm == 'Exponential Smoothing':\n",
    "        model = ExponentialSmoothing(y1, seasonal_periods=7, seasonal='mul')\n",
    "        \n",
    "    elif Algorithm == 'Theta':\n",
    "        model = ThetaModel(y1, period=7, method='multiplicative')\n",
    "\n",
    "                           \n",
    "    model = model.fit()\n",
    "    y_pred = model.forecast(steps=fh)\n",
    "    \n",
    "    \n",
    "    plt.rcParams[\"figure.figsize\"] = (25,10)\n",
    "    plt.plot(y1,c='black',alpha=0.3,label='Actual', marker='o')\n",
    "    plt.plot(y_pred,c='red',label='Predict', marker='o')\n",
    "    ci = 1.96 * np.std(y_pred)/np.sqrt(len(y_pred.index))\n",
    "    plt.plot(y2,c='black',alpha=0.3,label='Actual', marker='o')\n",
    "    plt.fill_between(y_pred.index, (y_pred-ci), (y_pred+ci), color='b', alpha=.1)\n",
    "    plt.xlabel('Date', fontsize=18)\n",
    "    plt.ylabel(Attribute + '\\n', fontsize=18)\n",
    "    plt.title('\\n' + Attribute.upper() + ' FORECAST\\n', fontsize=23)\n",
    "    plt.xticks(rotation=45)\n",
    "    plt.legend()\n",
    "#     plt.axvline(pd.Timestamp('2020-12-21'),color='r',linewidth=4)"
   ]
  },
  {
   "cell_type": "code",
   "execution_count": null,
   "id": "54a04429",
   "metadata": {
    "extensions": {
     "jupyter_dashboards": {
      "activeView": "grid_default",
      "views": {
       "grid_default": {
        "col": null,
        "height": 2,
        "hidden": true,
        "row": null,
        "width": 2
       }
      }
     }
    }
   },
   "outputs": [],
   "source": []
  }
 ],
 "metadata": {
  "extensions": {
   "jupyter_dashboards": {
    "activeView": "grid_default",
    "version": 1,
    "views": {
     "grid_default": {
      "cellMargin": 2,
      "defaultCellHeight": 60,
      "maxColumns": 12,
      "name": "grid",
      "type": "grid"
     }
    }
   }
  },
  "kernelspec": {
   "display_name": "Python 3 (ipykernel)",
   "language": "python",
   "name": "python3"
  },
  "language_info": {
   "codemirror_mode": {
    "name": "ipython",
    "version": 3
   },
   "file_extension": ".py",
   "mimetype": "text/x-python",
   "name": "python",
   "nbconvert_exporter": "python",
   "pygments_lexer": "ipython3",
   "version": "3.9.7"
  }
 },
 "nbformat": 4,
 "nbformat_minor": 5
}
